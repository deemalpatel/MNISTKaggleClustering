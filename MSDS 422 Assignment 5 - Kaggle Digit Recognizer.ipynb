{
 "cells": [
  {
   "cell_type": "code",
   "execution_count": 1,
   "metadata": {},
   "outputs": [],
   "source": [
    "from sklearn.ensemble import RandomForestClassifier, RandomForestRegressor\n",
    "from sklearn.model_selection import train_test_split, GridSearchCV\n",
    "from sklearn.decomposition import PCA\n",
    "from sklearn.metrics import f1_score, classification_report\n",
    "import numpy as np\n",
    "import pandas as pd\n",
    "import datetime as dt\n",
    "import matplotlib.pyplot as plt"
   ]
  },
  {
   "cell_type": "code",
   "execution_count": 2,
   "metadata": {},
   "outputs": [],
   "source": [
    "import warnings\n",
    "warnings.filterwarnings(\"ignore\")"
   ]
  },
  {
   "cell_type": "code",
   "execution_count": 509,
   "metadata": {},
   "outputs": [],
   "source": [
    "testData = pd.read_csv('test.csv')\n",
    "trainData = pd.read_csv('train.csv')\n",
    "y = trainData.label\n",
    "X = trainData.drop('label', axis=1)"
   ]
  },
  {
   "cell_type": "markdown",
   "metadata": {},
   "source": [
    "# Data Preparation and Exploration"
   ]
  },
  {
   "cell_type": "code",
   "execution_count": 4,
   "metadata": {},
   "outputs": [
    {
     "name": "stdout",
     "output_type": "stream",
     "text": [
      "pixel0      False\n",
      "pixel1      False\n",
      "pixel2      False\n",
      "pixel3      False\n",
      "pixel4      False\n",
      "            ...  \n",
      "pixel779    False\n",
      "pixel780    False\n",
      "pixel781    False\n",
      "pixel782    False\n",
      "pixel783    False\n",
      "Length: 784, dtype: bool\n"
     ]
    }
   ],
   "source": [
    "print(X.isnull().any()==True)"
   ]
  },
  {
   "cell_type": "code",
   "execution_count": 5,
   "metadata": {
    "scrolled": false
   },
   "outputs": [
    {
     "data": {
      "text/html": [
       "<div>\n",
       "<style scoped>\n",
       "    .dataframe tbody tr th:only-of-type {\n",
       "        vertical-align: middle;\n",
       "    }\n",
       "\n",
       "    .dataframe tbody tr th {\n",
       "        vertical-align: top;\n",
       "    }\n",
       "\n",
       "    .dataframe thead th {\n",
       "        text-align: right;\n",
       "    }\n",
       "</style>\n",
       "<table border=\"1\" class=\"dataframe\">\n",
       "  <thead>\n",
       "    <tr style=\"text-align: right;\">\n",
       "      <th></th>\n",
       "      <th>pixel0</th>\n",
       "      <th>pixel1</th>\n",
       "      <th>pixel2</th>\n",
       "      <th>pixel3</th>\n",
       "      <th>pixel4</th>\n",
       "      <th>pixel5</th>\n",
       "      <th>pixel6</th>\n",
       "      <th>pixel7</th>\n",
       "      <th>pixel8</th>\n",
       "      <th>pixel9</th>\n",
       "      <th>...</th>\n",
       "      <th>pixel774</th>\n",
       "      <th>pixel775</th>\n",
       "      <th>pixel776</th>\n",
       "      <th>pixel777</th>\n",
       "      <th>pixel778</th>\n",
       "      <th>pixel779</th>\n",
       "      <th>pixel780</th>\n",
       "      <th>pixel781</th>\n",
       "      <th>pixel782</th>\n",
       "      <th>pixel783</th>\n",
       "    </tr>\n",
       "  </thead>\n",
       "  <tbody>\n",
       "    <tr>\n",
       "      <th>0</th>\n",
       "      <td>0</td>\n",
       "      <td>0</td>\n",
       "      <td>0</td>\n",
       "      <td>0</td>\n",
       "      <td>0</td>\n",
       "      <td>0</td>\n",
       "      <td>0</td>\n",
       "      <td>0</td>\n",
       "      <td>0</td>\n",
       "      <td>0</td>\n",
       "      <td>...</td>\n",
       "      <td>0</td>\n",
       "      <td>0</td>\n",
       "      <td>0</td>\n",
       "      <td>0</td>\n",
       "      <td>0</td>\n",
       "      <td>0</td>\n",
       "      <td>0</td>\n",
       "      <td>0</td>\n",
       "      <td>0</td>\n",
       "      <td>0</td>\n",
       "    </tr>\n",
       "    <tr>\n",
       "      <th>1</th>\n",
       "      <td>0</td>\n",
       "      <td>0</td>\n",
       "      <td>0</td>\n",
       "      <td>0</td>\n",
       "      <td>0</td>\n",
       "      <td>0</td>\n",
       "      <td>0</td>\n",
       "      <td>0</td>\n",
       "      <td>0</td>\n",
       "      <td>0</td>\n",
       "      <td>...</td>\n",
       "      <td>0</td>\n",
       "      <td>0</td>\n",
       "      <td>0</td>\n",
       "      <td>0</td>\n",
       "      <td>0</td>\n",
       "      <td>0</td>\n",
       "      <td>0</td>\n",
       "      <td>0</td>\n",
       "      <td>0</td>\n",
       "      <td>0</td>\n",
       "    </tr>\n",
       "    <tr>\n",
       "      <th>2</th>\n",
       "      <td>0</td>\n",
       "      <td>0</td>\n",
       "      <td>0</td>\n",
       "      <td>0</td>\n",
       "      <td>0</td>\n",
       "      <td>0</td>\n",
       "      <td>0</td>\n",
       "      <td>0</td>\n",
       "      <td>0</td>\n",
       "      <td>0</td>\n",
       "      <td>...</td>\n",
       "      <td>0</td>\n",
       "      <td>0</td>\n",
       "      <td>0</td>\n",
       "      <td>0</td>\n",
       "      <td>0</td>\n",
       "      <td>0</td>\n",
       "      <td>0</td>\n",
       "      <td>0</td>\n",
       "      <td>0</td>\n",
       "      <td>0</td>\n",
       "    </tr>\n",
       "    <tr>\n",
       "      <th>3</th>\n",
       "      <td>0</td>\n",
       "      <td>0</td>\n",
       "      <td>0</td>\n",
       "      <td>0</td>\n",
       "      <td>0</td>\n",
       "      <td>0</td>\n",
       "      <td>0</td>\n",
       "      <td>0</td>\n",
       "      <td>0</td>\n",
       "      <td>0</td>\n",
       "      <td>...</td>\n",
       "      <td>0</td>\n",
       "      <td>0</td>\n",
       "      <td>0</td>\n",
       "      <td>0</td>\n",
       "      <td>0</td>\n",
       "      <td>0</td>\n",
       "      <td>0</td>\n",
       "      <td>0</td>\n",
       "      <td>0</td>\n",
       "      <td>0</td>\n",
       "    </tr>\n",
       "    <tr>\n",
       "      <th>4</th>\n",
       "      <td>0</td>\n",
       "      <td>0</td>\n",
       "      <td>0</td>\n",
       "      <td>0</td>\n",
       "      <td>0</td>\n",
       "      <td>0</td>\n",
       "      <td>0</td>\n",
       "      <td>0</td>\n",
       "      <td>0</td>\n",
       "      <td>0</td>\n",
       "      <td>...</td>\n",
       "      <td>0</td>\n",
       "      <td>0</td>\n",
       "      <td>0</td>\n",
       "      <td>0</td>\n",
       "      <td>0</td>\n",
       "      <td>0</td>\n",
       "      <td>0</td>\n",
       "      <td>0</td>\n",
       "      <td>0</td>\n",
       "      <td>0</td>\n",
       "    </tr>\n",
       "    <tr>\n",
       "      <th>...</th>\n",
       "      <td>...</td>\n",
       "      <td>...</td>\n",
       "      <td>...</td>\n",
       "      <td>...</td>\n",
       "      <td>...</td>\n",
       "      <td>...</td>\n",
       "      <td>...</td>\n",
       "      <td>...</td>\n",
       "      <td>...</td>\n",
       "      <td>...</td>\n",
       "      <td>...</td>\n",
       "      <td>...</td>\n",
       "      <td>...</td>\n",
       "      <td>...</td>\n",
       "      <td>...</td>\n",
       "      <td>...</td>\n",
       "      <td>...</td>\n",
       "      <td>...</td>\n",
       "      <td>...</td>\n",
       "      <td>...</td>\n",
       "      <td>...</td>\n",
       "    </tr>\n",
       "    <tr>\n",
       "      <th>41995</th>\n",
       "      <td>0</td>\n",
       "      <td>0</td>\n",
       "      <td>0</td>\n",
       "      <td>0</td>\n",
       "      <td>0</td>\n",
       "      <td>0</td>\n",
       "      <td>0</td>\n",
       "      <td>0</td>\n",
       "      <td>0</td>\n",
       "      <td>0</td>\n",
       "      <td>...</td>\n",
       "      <td>0</td>\n",
       "      <td>0</td>\n",
       "      <td>0</td>\n",
       "      <td>0</td>\n",
       "      <td>0</td>\n",
       "      <td>0</td>\n",
       "      <td>0</td>\n",
       "      <td>0</td>\n",
       "      <td>0</td>\n",
       "      <td>0</td>\n",
       "    </tr>\n",
       "    <tr>\n",
       "      <th>41996</th>\n",
       "      <td>0</td>\n",
       "      <td>0</td>\n",
       "      <td>0</td>\n",
       "      <td>0</td>\n",
       "      <td>0</td>\n",
       "      <td>0</td>\n",
       "      <td>0</td>\n",
       "      <td>0</td>\n",
       "      <td>0</td>\n",
       "      <td>0</td>\n",
       "      <td>...</td>\n",
       "      <td>0</td>\n",
       "      <td>0</td>\n",
       "      <td>0</td>\n",
       "      <td>0</td>\n",
       "      <td>0</td>\n",
       "      <td>0</td>\n",
       "      <td>0</td>\n",
       "      <td>0</td>\n",
       "      <td>0</td>\n",
       "      <td>0</td>\n",
       "    </tr>\n",
       "    <tr>\n",
       "      <th>41997</th>\n",
       "      <td>0</td>\n",
       "      <td>0</td>\n",
       "      <td>0</td>\n",
       "      <td>0</td>\n",
       "      <td>0</td>\n",
       "      <td>0</td>\n",
       "      <td>0</td>\n",
       "      <td>0</td>\n",
       "      <td>0</td>\n",
       "      <td>0</td>\n",
       "      <td>...</td>\n",
       "      <td>0</td>\n",
       "      <td>0</td>\n",
       "      <td>0</td>\n",
       "      <td>0</td>\n",
       "      <td>0</td>\n",
       "      <td>0</td>\n",
       "      <td>0</td>\n",
       "      <td>0</td>\n",
       "      <td>0</td>\n",
       "      <td>0</td>\n",
       "    </tr>\n",
       "    <tr>\n",
       "      <th>41998</th>\n",
       "      <td>0</td>\n",
       "      <td>0</td>\n",
       "      <td>0</td>\n",
       "      <td>0</td>\n",
       "      <td>0</td>\n",
       "      <td>0</td>\n",
       "      <td>0</td>\n",
       "      <td>0</td>\n",
       "      <td>0</td>\n",
       "      <td>0</td>\n",
       "      <td>...</td>\n",
       "      <td>0</td>\n",
       "      <td>0</td>\n",
       "      <td>0</td>\n",
       "      <td>0</td>\n",
       "      <td>0</td>\n",
       "      <td>0</td>\n",
       "      <td>0</td>\n",
       "      <td>0</td>\n",
       "      <td>0</td>\n",
       "      <td>0</td>\n",
       "    </tr>\n",
       "    <tr>\n",
       "      <th>41999</th>\n",
       "      <td>0</td>\n",
       "      <td>0</td>\n",
       "      <td>0</td>\n",
       "      <td>0</td>\n",
       "      <td>0</td>\n",
       "      <td>0</td>\n",
       "      <td>0</td>\n",
       "      <td>0</td>\n",
       "      <td>0</td>\n",
       "      <td>0</td>\n",
       "      <td>...</td>\n",
       "      <td>0</td>\n",
       "      <td>0</td>\n",
       "      <td>0</td>\n",
       "      <td>0</td>\n",
       "      <td>0</td>\n",
       "      <td>0</td>\n",
       "      <td>0</td>\n",
       "      <td>0</td>\n",
       "      <td>0</td>\n",
       "      <td>0</td>\n",
       "    </tr>\n",
       "  </tbody>\n",
       "</table>\n",
       "<p>42000 rows × 784 columns</p>\n",
       "</div>"
      ],
      "text/plain": [
       "       pixel0  pixel1  pixel2  pixel3  pixel4  pixel5  pixel6  pixel7  pixel8  \\\n",
       "0           0       0       0       0       0       0       0       0       0   \n",
       "1           0       0       0       0       0       0       0       0       0   \n",
       "2           0       0       0       0       0       0       0       0       0   \n",
       "3           0       0       0       0       0       0       0       0       0   \n",
       "4           0       0       0       0       0       0       0       0       0   \n",
       "...       ...     ...     ...     ...     ...     ...     ...     ...     ...   \n",
       "41995       0       0       0       0       0       0       0       0       0   \n",
       "41996       0       0       0       0       0       0       0       0       0   \n",
       "41997       0       0       0       0       0       0       0       0       0   \n",
       "41998       0       0       0       0       0       0       0       0       0   \n",
       "41999       0       0       0       0       0       0       0       0       0   \n",
       "\n",
       "       pixel9  ...  pixel774  pixel775  pixel776  pixel777  pixel778  \\\n",
       "0           0  ...         0         0         0         0         0   \n",
       "1           0  ...         0         0         0         0         0   \n",
       "2           0  ...         0         0         0         0         0   \n",
       "3           0  ...         0         0         0         0         0   \n",
       "4           0  ...         0         0         0         0         0   \n",
       "...       ...  ...       ...       ...       ...       ...       ...   \n",
       "41995       0  ...         0         0         0         0         0   \n",
       "41996       0  ...         0         0         0         0         0   \n",
       "41997       0  ...         0         0         0         0         0   \n",
       "41998       0  ...         0         0         0         0         0   \n",
       "41999       0  ...         0         0         0         0         0   \n",
       "\n",
       "       pixel779  pixel780  pixel781  pixel782  pixel783  \n",
       "0             0         0         0         0         0  \n",
       "1             0         0         0         0         0  \n",
       "2             0         0         0         0         0  \n",
       "3             0         0         0         0         0  \n",
       "4             0         0         0         0         0  \n",
       "...         ...       ...       ...       ...       ...  \n",
       "41995         0         0         0         0         0  \n",
       "41996         0         0         0         0         0  \n",
       "41997         0         0         0         0         0  \n",
       "41998         0         0         0         0         0  \n",
       "41999         0         0         0         0         0  \n",
       "\n",
       "[42000 rows x 784 columns]"
      ]
     },
     "execution_count": 5,
     "metadata": {},
     "output_type": "execute_result"
    }
   ],
   "source": [
    "#Look at a snapshot of the testing data\n",
    "X"
   ]
  },
  {
   "cell_type": "code",
   "execution_count": 6,
   "metadata": {},
   "outputs": [
    {
     "data": {
      "text/plain": [
       "0        1\n",
       "1        0\n",
       "2        1\n",
       "3        4\n",
       "4        0\n",
       "        ..\n",
       "41995    0\n",
       "41996    1\n",
       "41997    7\n",
       "41998    6\n",
       "41999    9\n",
       "Name: label, Length: 42000, dtype: int64"
      ]
     },
     "execution_count": 6,
     "metadata": {},
     "output_type": "execute_result"
    }
   ],
   "source": [
    "#Look at a snapshot of the labels corresponding to the testing data\n",
    "y"
   ]
  },
  {
   "cell_type": "code",
   "execution_count": 7,
   "metadata": {},
   "outputs": [],
   "source": [
    "numpyX = X.to_numpy()\n",
    "numpyY = y.to_numpy()"
   ]
  },
  {
   "cell_type": "code",
   "execution_count": 8,
   "metadata": {},
   "outputs": [
    {
     "name": "stdout",
     "output_type": "stream",
     "text": [
      "(42000, 784)\n",
      "(42000,)\n"
     ]
    }
   ],
   "source": [
    "print(X.shape)\n",
    "print(y.shape)"
   ]
  },
  {
   "cell_type": "code",
   "execution_count": 9,
   "metadata": {},
   "outputs": [
    {
     "data": {
      "text/plain": [
       "<Figure size 432x288 with 0 Axes>"
      ]
     },
     "metadata": {},
     "output_type": "display_data"
    },
    {
     "data": {
      "image/png": "[encoded data removed]",
      "text/plain": [
       "<Figure size 720x648 with 25 Axes>"
      ]
     },
     "metadata": {
      "needs_background": "light"
     },
     "output_type": "display_data"
    }
   ],
   "source": [
    "#Visualization of the testing data\n",
    "plt.gray() # B/W Imagesplt.figure(figsize = (10,9)) # Adjusting figure size# Displaying a grid of 3x3 images\n",
    "plt.figure(figsize = (10,9))\n",
    "for i in range(25):\n",
    "    plt.subplot(5,5,i+1)\n",
    "    plt.imshow(numpyX[i].reshape(28,28))\n",
    "    \n",
    "numpyX = numpyX.astype('float32') \n",
    "numpyX = numpyX/255."
   ]
  },
  {
   "cell_type": "markdown",
   "metadata": {},
   "source": [
    "# 1.Begin by fitting a random forest classifier using the full set of 784 explanatory variables and the model training set (train.csv). Record the time it takes to fit the model and then evaluate the model on the test.csv data by submitting to Kaggle.com. Provide your Kaggle.com score and user ID.\n"
   ]
  },
  {
   "cell_type": "code",
   "execution_count": 11,
   "metadata": {},
   "outputs": [
    {
     "name": "stdout",
     "output_type": "stream",
     "text": [
      "Time taken: 0:00:03.969833\n"
     ]
    },
    {
     "data": {
      "text/html": [
       "<div>\n",
       "<style scoped>\n",
       "    .dataframe tbody tr th:only-of-type {\n",
       "        vertical-align: middle;\n",
       "    }\n",
       "\n",
       "    .dataframe tbody tr th {\n",
       "        vertical-align: top;\n",
       "    }\n",
       "\n",
       "    .dataframe thead th {\n",
       "        text-align: right;\n",
       "    }\n",
       "</style>\n",
       "<table border=\"1\" class=\"dataframe\">\n",
       "  <thead>\n",
       "    <tr style=\"text-align: right;\">\n",
       "      <th></th>\n",
       "      <th>Label</th>\n",
       "    </tr>\n",
       "    <tr>\n",
       "      <th>ImageId</th>\n",
       "      <th></th>\n",
       "    </tr>\n",
       "  </thead>\n",
       "  <tbody>\n",
       "    <tr>\n",
       "      <th>1</th>\n",
       "      <td>2</td>\n",
       "    </tr>\n",
       "    <tr>\n",
       "      <th>2</th>\n",
       "      <td>0</td>\n",
       "    </tr>\n",
       "    <tr>\n",
       "      <th>3</th>\n",
       "      <td>9</td>\n",
       "    </tr>\n",
       "    <tr>\n",
       "      <th>4</th>\n",
       "      <td>4</td>\n",
       "    </tr>\n",
       "    <tr>\n",
       "      <th>5</th>\n",
       "      <td>3</td>\n",
       "    </tr>\n",
       "    <tr>\n",
       "      <th>...</th>\n",
       "      <td>...</td>\n",
       "    </tr>\n",
       "    <tr>\n",
       "      <th>27996</th>\n",
       "      <td>9</td>\n",
       "    </tr>\n",
       "    <tr>\n",
       "      <th>27997</th>\n",
       "      <td>7</td>\n",
       "    </tr>\n",
       "    <tr>\n",
       "      <th>27998</th>\n",
       "      <td>3</td>\n",
       "    </tr>\n",
       "    <tr>\n",
       "      <th>27999</th>\n",
       "      <td>9</td>\n",
       "    </tr>\n",
       "    <tr>\n",
       "      <th>28000</th>\n",
       "      <td>2</td>\n",
       "    </tr>\n",
       "  </tbody>\n",
       "</table>\n",
       "<p>28000 rows × 1 columns</p>\n",
       "</div>"
      ],
      "text/plain": [
       "         Label\n",
       "ImageId       \n",
       "1            2\n",
       "2            0\n",
       "3            9\n",
       "4            4\n",
       "5            3\n",
       "...        ...\n",
       "27996        9\n",
       "27997        7\n",
       "27998        3\n",
       "27999        9\n",
       "28000        2\n",
       "\n",
       "[28000 rows x 1 columns]"
      ]
     },
     "execution_count": 11,
     "metadata": {},
     "output_type": "execute_result"
    }
   ],
   "source": [
    "start=dt.datetime.now()\n",
    "rfc = RandomForestClassifier(n_estimators=10, bootstrap = True, max_features = 'sqrt')\n",
    "start=dt.datetime.now()\n",
    "rfc.fit(X,y)\n",
    "end=dt.datetime.now()\n",
    "print('Time taken:',end-start)\n",
    "labels = rfc.predict(testData)\n",
    "trainDF = pd.DataFrame(labels, columns = ['Label'])\n",
    "trainDF.index.name = 'ImageId'\n",
    "trainDF.index += 1\n",
    "trainDF.to_csv('predictions.csv')\n",
    "trainDF\n",
    "#Kaggle score: 0.96500; Username = Deemal Patel"
   ]
  },
  {
   "cell_type": "markdown",
   "metadata": {},
   "source": [
    "# 2. Execute principal components analysis (PCA) on the combined training and test set data together, generating principal components that represent 95 percent of the variability in theexplanatory variables. The number of principal components in the solution should be substantially fewer than the 784 explanatory variables. Record the time it takes to identify the principal components.\n"
   ]
  },
  {
   "cell_type": "code",
   "execution_count": 14,
   "metadata": {},
   "outputs": [
    {
     "name": "stdout",
     "output_type": "stream",
     "text": [
      "Time taken: 0:00:04.589094\n",
      "Principal Components at 95% variability is 154\n"
     ]
    }
   ],
   "source": [
    "combinedSet = pd.concat([X, testData])\n",
    "combinedSet.reset_index(inplace=True)\n",
    "combinedSet = combinedSet.drop('index',axis=1)\n",
    "\n",
    "start=dt.datetime.now()\n",
    "pca = PCA(n_components = 0.95000)\n",
    "reducedSet = pca.fit_transform(combinedSet)\n",
    "end=dt.datetime.now()\n",
    "print('Time taken:', end-start)\n",
    "print('Principal Components at 95% variability is',reducedSet.shape[1])"
   ]
  },
  {
   "cell_type": "markdown",
   "metadata": {},
   "source": [
    "# 3. Using the identified principal components from step (2), use the train.csv to build another random forest classifier. Record the time it takes to fit the model and to evaluate the model on the test.csv data by submitting to Kaggle.com. Provide your Kaggle.com score and user ID."
   ]
  },
  {
   "cell_type": "code",
   "execution_count": 18,
   "metadata": {},
   "outputs": [
    {
     "name": "stdout",
     "output_type": "stream",
     "text": [
      "Time taken: 0:00:04.533265\n"
     ]
    },
    {
     "data": {
      "text/html": [
       "<div>\n",
       "<style scoped>\n",
       "    .dataframe tbody tr th:only-of-type {\n",
       "        vertical-align: middle;\n",
       "    }\n",
       "\n",
       "    .dataframe tbody tr th {\n",
       "        vertical-align: top;\n",
       "    }\n",
       "\n",
       "    .dataframe thead th {\n",
       "        text-align: right;\n",
       "    }\n",
       "</style>\n",
       "<table border=\"1\" class=\"dataframe\">\n",
       "  <thead>\n",
       "    <tr style=\"text-align: right;\">\n",
       "      <th></th>\n",
       "      <th>Label</th>\n",
       "    </tr>\n",
       "    <tr>\n",
       "      <th>ImageId</th>\n",
       "      <th></th>\n",
       "    </tr>\n",
       "  </thead>\n",
       "  <tbody>\n",
       "    <tr>\n",
       "      <th>1</th>\n",
       "      <td>6</td>\n",
       "    </tr>\n",
       "    <tr>\n",
       "      <th>2</th>\n",
       "      <td>0</td>\n",
       "    </tr>\n",
       "    <tr>\n",
       "      <th>3</th>\n",
       "      <td>9</td>\n",
       "    </tr>\n",
       "    <tr>\n",
       "      <th>4</th>\n",
       "      <td>0</td>\n",
       "    </tr>\n",
       "    <tr>\n",
       "      <th>5</th>\n",
       "      <td>4</td>\n",
       "    </tr>\n",
       "    <tr>\n",
       "      <th>...</th>\n",
       "      <td>...</td>\n",
       "    </tr>\n",
       "    <tr>\n",
       "      <th>27996</th>\n",
       "      <td>9</td>\n",
       "    </tr>\n",
       "    <tr>\n",
       "      <th>27997</th>\n",
       "      <td>3</td>\n",
       "    </tr>\n",
       "    <tr>\n",
       "      <th>27998</th>\n",
       "      <td>7</td>\n",
       "    </tr>\n",
       "    <tr>\n",
       "      <th>27999</th>\n",
       "      <td>3</td>\n",
       "    </tr>\n",
       "    <tr>\n",
       "      <th>28000</th>\n",
       "      <td>2</td>\n",
       "    </tr>\n",
       "  </tbody>\n",
       "</table>\n",
       "<p>28000 rows × 1 columns</p>\n",
       "</div>"
      ],
      "text/plain": [
       "         Label\n",
       "ImageId       \n",
       "1            6\n",
       "2            0\n",
       "3            9\n",
       "4            0\n",
       "5            4\n",
       "...        ...\n",
       "27996        9\n",
       "27997        3\n",
       "27998        7\n",
       "27999        3\n",
       "28000        2\n",
       "\n",
       "[28000 rows x 1 columns]"
      ]
     },
     "execution_count": 18,
     "metadata": {},
     "output_type": "execute_result"
    }
   ],
   "source": [
    "pca2 = PCA(n_components = reducedSet.shape[1])\n",
    "X_pca = pca2.fit_transform(X)\n",
    "X_pca_test = pca2.fit_transform(testData)\n",
    "rfc2 = RandomForestClassifier(n_estimators=10, bootstrap = True, max_features = 'sqrt')\n",
    "start=dt.datetime.now()\n",
    "rfc2.fit(X_pca,y)\n",
    "end=dt.datetime.now()\n",
    "print('Time taken:',end-start)\n",
    "\n",
    "labels = rfc2.predict(X_pca_test)\n",
    "trainDF = pd.DataFrame(labels, columns = ['Label'])\n",
    "trainDF.index.name = 'ImageId'\n",
    "trainDF.index += 1\n",
    "trainDF.to_csv('predictions2.csv')\n",
    "trainDF\n",
    "\n",
    "#Kaggle score: 0.41303; Username = Deemal Patel"
   ]
  },
  {
   "cell_type": "markdown",
   "metadata": {},
   "source": [
    "# 4. Submit both the RF Classifier and the PCA RF Classifier to Kaggle.com, and report both scores along with your user name.  I MUST have your user name to verify submission status.\n"
   ]
  },
  {
   "cell_type": "code",
   "execution_count": null,
   "metadata": {},
   "outputs": [],
   "source": [
    "rank = [0.965, 0.41303]\n",
    "model = ['Random Forest Classifcation  (Standard)', 'Random Forest w/ PCA']\n",
    "username = ['Deemal Patel','Deemal Patel']\n",
    "scores = {'User':username, 'Score': rank, 'Model': model}\n",
    "scoresDF = pd.DataFrame(scores)\n",
    "scoresDF"
   ]
  },
  {
   "cell_type": "markdown",
   "metadata": {},
   "source": [
    "# 5. The experiment we have proposed has a MAJOR design flaw. Identify the flaw. Fix it. Rerun the experiment in a way that is consistent with a training-and-test regimen, and submit this to Kaggle.com. Provide your Kaggle.com score and user ID."
   ]
  },
  {
   "cell_type": "code",
   "execution_count": 458,
   "metadata": {},
   "outputs": [
    {
     "name": "stdout",
     "output_type": "stream",
     "text": [
      "Time taken: 0:00:03.674488\n"
     ]
    }
   ],
   "source": [
    "start = dt.datetime.now()\n",
    "pca = PCA(n_components=0.95)\n",
    "X_pca = pca.fit_transform(X) \n",
    "end=dt.datetime.now()\n",
    "print('Time taken:' , end-start)"
   ]
  },
  {
   "cell_type": "code",
   "execution_count": 459,
   "metadata": {},
   "outputs": [
    {
     "name": "stdout",
     "output_type": "stream",
     "text": [
      "(32000, 154)\n",
      "(10000, 154)\n",
      "(32000,)\n",
      "(10000,)\n"
     ]
    }
   ],
   "source": [
    "X_pca_train, X_pca_vld, y_pca_train, y_pca_vld= train_test_split(X_pca, y, train_size=32000,\n",
    "                                                                 test_size=10000, random_state=1)\n",
    "print(X_pca_train.shape)\n",
    "print(X_pca_vld.shape)\n",
    "print(y_pca_train.shape)\n",
    "print(y_pca_vld.shape)"
   ]
  },
  {
   "cell_type": "code",
   "execution_count": 460,
   "metadata": {},
   "outputs": [
    {
     "name": "stdout",
     "output_type": "stream",
     "text": [
      "(22400, 154)\n",
      "(9600, 154)\n",
      "(22400,)\n",
      "(9600,)\n"
     ]
    }
   ],
   "source": [
    "X_pca_trn, X_pca_tst, y_pca_trn, y_pca_tst = train_test_split(X_pca_train,y_pca_train, train_size = 0.7,\n",
    "                                                              test_size =0.3, random_state=1)\n",
    "print(X_pca_trn.shape)\n",
    "print(X_pca_tst.shape)\n",
    "print(y_pca_trn.shape)\n",
    "print(y_pca_tst.shape) "
   ]
  },
  {
   "cell_type": "code",
   "execution_count": 485,
   "metadata": {
    "scrolled": false
   },
   "outputs": [
    {
     "name": "stdout",
     "output_type": "stream",
     "text": [
      "Accuracy on training set: 1.000\n",
      "Accuracy on test set: 0.937\n",
      "f1: 1.0\n",
      "f1_tst: 0.9366088748775784\n",
      "f1_vld: 0.9366523358747832\n",
      "              precision    recall  f1-score   support\n",
      "\n",
      "           0       1.00      1.00      1.00      2168\n",
      "           1       1.00      1.00      1.00      2528\n",
      "           2       1.00      1.00      1.00      2225\n",
      "           3       1.00      1.00      1.00      2311\n",
      "           4       1.00      1.00      1.00      2166\n",
      "           5       1.00      1.00      1.00      2080\n",
      "           6       1.00      1.00      1.00      2204\n",
      "           7       1.00      1.00      1.00      2332\n",
      "           8       1.00      1.00      1.00      2182\n",
      "           9       1.00      1.00      1.00      2204\n",
      "\n",
      "    accuracy                           1.00     22400\n",
      "   macro avg       1.00      1.00      1.00     22400\n",
      "weighted avg       1.00      1.00      1.00     22400\n",
      "\n",
      "              precision    recall  f1-score   support\n",
      "\n",
      "           0       0.98      0.96      0.97       965\n",
      "           1       0.99      0.97      0.98      1054\n",
      "           2       0.92      0.93      0.92       943\n",
      "           3       0.92      0.91      0.91      1020\n",
      "           4       0.94      0.92      0.93       946\n",
      "           5       0.91      0.93      0.92       838\n",
      "           6       0.96      0.96      0.96       968\n",
      "           7       0.95      0.94      0.95      1053\n",
      "           8       0.88      0.91      0.89       853\n",
      "           9       0.91      0.93      0.92       960\n",
      "\n",
      "    accuracy                           0.94      9600\n",
      "   macro avg       0.94      0.94      0.94      9600\n",
      "weighted avg       0.94      0.94      0.94      9600\n",
      "\n",
      "              precision    recall  f1-score   support\n",
      "\n",
      "           0       0.98      0.97      0.97      1028\n",
      "           1       0.98      0.98      0.98      1117\n",
      "           2       0.94      0.93      0.93      1013\n",
      "           3       0.92      0.91      0.91      1053\n",
      "           4       0.94      0.93      0.94      1000\n",
      "           5       0.91      0.92      0.91       852\n",
      "           6       0.98      0.95      0.96       991\n",
      "           7       0.94      0.93      0.94      1030\n",
      "           8       0.89      0.93      0.91       948\n",
      "           9       0.89      0.91      0.90       968\n",
      "\n",
      "    accuracy                           0.94     10000\n",
      "   macro avg       0.94      0.94      0.94     10000\n",
      "weighted avg       0.94      0.94      0.94     10000\n",
      "\n",
      "0:00:08.234644\n"
     ]
    }
   ],
   "source": [
    "start_time = dt.datetime.now()\n",
    "rfc_pca = RandomForestClassifier(n_estimators = 100, criterion='gini',\n",
    "                                 max_features='sqrt', oob_score=True, bootstrap = True, random_state=1,n_jobs=-1)\n",
    "# Train\n",
    "rfc_pca= rfc_pca.fit(X_pca_trn, y_pca_trn)\n",
    "print(\"Accuracy on training set: {:.3f}\".format(rfc_pca.score(X_pca_trn,y_pca_trn)))\n",
    "print(\"Accuracy on test set: {:.3f}\".format(rfc_pca.score(X_pca_tst,y_pca_tst)))\n",
    "f1 = f1_score(y_pca_trn, rfc_pca.predict(X_pca_trn),average='weighted')\n",
    "f1_tst = f1_score(y_pca_tst, rfc_pca.predict(X_pca_tst),average='weighted')\n",
    "f1_vld = f1_score(y_pca_vld, rfc_pca.predict(X_pca_vld),average='weighted')\n",
    "\n",
    "print(\"f1: {:}\".format(f1))\n",
    "print(\"f1_tst: {:}\".format(f1_tst))\n",
    "print(\"f1_vld: {:}\".format(f1_vld))\n",
    "# Compare\n",
    "print(classification_report(rfc_pca.predict(X_pca_trn), y_pca_trn))\n",
    "print(classification_report(rfc_pca.predict(X_pca_tst), y_pca_tst))\n",
    "print(classification_report(rfc_pca.predict(X_pca_vld), y_pca_vld))\n",
    "end_time = dt.datetime.now()\n",
    "runtime = end_time - start_time # seconds of wall-clock time\n",
    "print(runtime) # report in milliseconds"
   ]
  },
  {
   "cell_type": "code",
   "execution_count": 490,
   "metadata": {},
   "outputs": [
    {
     "data": {
      "text/plain": [
       "0.98103125"
      ]
     },
     "execution_count": 490,
     "metadata": {},
     "output_type": "execute_result"
    }
   ],
   "source": [
    "labels = rfc_pca.predict(X_pca_train)\n",
    "accuracy_score(y_pca_train, labels)"
   ]
  },
  {
   "cell_type": "markdown",
   "metadata": {},
   "source": [
    "# 6. Use k-means clustering to group MNIST observations into 1 of 10 categories and then assign labels."
   ]
  },
  {
   "cell_type": "code",
   "execution_count": null,
   "metadata": {},
   "outputs": [],
   "source": [
    "#wcss = []\n",
    "'''for i in range(1, 125):\n",
    "    kmeans = MiniBatchKMeans(n_clusters=i, init='k-means++', max_iter=300, n_init=10, random_state=0)\n",
    "    kmeans.fit(X)\n",
    "    wcss.append(kmeans.inertia_)'''\n",
    "plt.rcParams['figure.figsize'] = [12, 12]\n",
    "plt.plot(range(1, 125), wcss)\n",
    "plt.title('Elbow Method')\n",
    "plt.xlabel('Number of clusters')\n",
    "plt.ylabel('WCSS')\n",
    "plt.show()"
   ]
  },
  {
   "cell_type": "code",
   "execution_count": 510,
   "metadata": {},
   "outputs": [],
   "source": [
    "numpyX = X.to_numpy()\n",
    "numpyY = y.to_numpy()"
   ]
  },
  {
   "cell_type": "code",
   "execution_count": 511,
   "metadata": {
    "scrolled": false
   },
   "outputs": [
    {
     "data": {
      "text/plain": [
       "<Figure size 864x864 with 0 Axes>"
      ]
     },
     "metadata": {},
     "output_type": "display_data"
    },
    {
     "data": {
      "image/png": "[encoded data removed]",
      "text/plain": [
       "<Figure size 720x648 with 9 Axes>"
      ]
     },
     "metadata": {
      "needs_background": "light"
     },
     "output_type": "display_data"
    }
   ],
   "source": [
    "plt.gray() # B/W Imagesplt.figure(figsize = (10,9)) # Adjusting figure size# Displaying a grid of 3x3 images\n",
    "plt.figure(figsize = (10,9))\n",
    "for i in range(9):\n",
    "    plt.subplot(3,3,i+1)\n",
    "    plt.imshow(numpyX[i].reshape(28,28))\n",
    "    \n",
    "numpyX = numpyX.astype('float32') \n",
    "numpyX = numpyX/255."
   ]
  },
  {
   "cell_type": "code",
   "execution_count": 512,
   "metadata": {},
   "outputs": [
    {
     "name": "stdout",
     "output_type": "stream",
     "text": [
      "1\n",
      "0\n",
      "1\n",
      "4\n",
      "0\n",
      "0\n",
      "7\n",
      "3\n",
      "5\n"
     ]
    }
   ],
   "source": [
    "for i in range(9):\n",
    "    print(numpyY[i])"
   ]
  },
  {
   "cell_type": "code",
   "execution_count": 513,
   "metadata": {},
   "outputs": [],
   "source": [
    "total_clusters = len(np.unique(numpyY))\n",
    "kmeans = MiniBatchKMeans(n_clusters = total_clusters)"
   ]
  },
  {
   "cell_type": "code",
   "execution_count": 514,
   "metadata": {},
   "outputs": [
    {
     "data": {
      "text/plain": [
       "MiniBatchKMeans(batch_size=100, compute_labels=True, init='k-means++',\n",
       "                init_size=None, max_iter=100, max_no_improvement=10,\n",
       "                n_clusters=10, n_init=3, random_state=None,\n",
       "                reassignment_ratio=0.01, tol=0.0, verbose=0)"
      ]
     },
     "execution_count": 514,
     "metadata": {},
     "output_type": "execute_result"
    }
   ],
   "source": [
    "kmeans.fit(numpyX)"
   ]
  },
  {
   "cell_type": "code",
   "execution_count": 515,
   "metadata": {},
   "outputs": [
    {
     "data": {
      "text/plain": [
       "array([4, 7, 4, ..., 2, 6, 5], dtype=int32)"
      ]
     },
     "execution_count": 515,
     "metadata": {},
     "output_type": "execute_result"
    }
   ],
   "source": [
    "kmeans.labels_"
   ]
  },
  {
   "cell_type": "code",
   "execution_count": 516,
   "metadata": {},
   "outputs": [],
   "source": [
    "def retrieve_info(cluster_labels, y_train):\n",
    "    reference_labels = {}\n",
    "    for i in range (len(np.unique(kmeans.labels_))):\n",
    "        index = np.where(cluster_labels ==i,1,0)\n",
    "        num = np.bincount(y_train[index == 1]).argmax()\n",
    "        reference_labels[i] = num\n",
    "    return reference_labels"
   ]
  },
  {
   "cell_type": "code",
   "execution_count": 517,
   "metadata": {},
   "outputs": [
    {
     "name": "stdout",
     "output_type": "stream",
     "text": [
      "{0: 8, 1: 3, 2: 7, 3: 0, 4: 1, 5: 9, 6: 6, 7: 0, 8: 6, 9: 2}\n"
     ]
    }
   ],
   "source": [
    "print(retrieve_info(kmeans.labels_,numpyY))"
   ]
  },
  {
   "cell_type": "code",
   "execution_count": 518,
   "metadata": {},
   "outputs": [],
   "source": [
    "reference_labels = retrieve_info(kmeans.labels_,numpyY)\n",
    "number_labels = np.random.rand(len(kmeans.labels_))\n",
    "for i in range(len(kmeans.labels_)):\n",
    "    number_labels[i] = reference_labels[kmeans.labels_[i]]"
   ]
  },
  {
   "cell_type": "code",
   "execution_count": 519,
   "metadata": {},
   "outputs": [
    {
     "name": "stdout",
     "output_type": "stream",
     "text": [
      "[1 0 1 2 0 2 7 1 3 3 7 7 1 3 3 1 8 0 7 3]\n",
      "[1 0 1 4 0 0 7 3 5 3 8 9 1 3 3 1 2 0 7 5]\n"
     ]
    }
   ],
   "source": [
    "print(number_labels[:20].astype('int'))\n",
    "print(numpyY[:20])"
   ]
  },
  {
   "cell_type": "code",
   "execution_count": 520,
   "metadata": {},
   "outputs": [
    {
     "name": "stdout",
     "output_type": "stream",
     "text": [
      "0.5259047619047619\n"
     ]
    }
   ],
   "source": [
    "print(accuracy_score(number_labels,numpyY))"
   ]
  },
  {
   "cell_type": "markdown",
   "metadata": {},
   "source": [
    "OPTIMIZING KMEANS"
   ]
  },
  {
   "cell_type": "code",
   "execution_count": 536,
   "metadata": {},
   "outputs": [
    {
     "data": {
      "text/plain": [
       "0.8996428571428572"
      ]
     },
     "execution_count": 536,
     "metadata": {},
     "output_type": "execute_result"
    }
   ],
   "source": [
    "kmeans = MiniBatchKMeans(n_clusters = 255, random_state = 42)\n",
    "kmeans.fit(numpyX)\n",
    "reference_labels = retrieve_info(kmeans.labels_,numpyY)\n",
    "number_labels = np.random.rand(len(kmeans.labels_))\n",
    "for i in range(len(kmeans.labels_)):\n",
    "    number_labels[i] = reference_labels[kmeans.labels_[i]]\n",
    "accuracy_score(number_labels,numpyY)"
   ]
  },
  {
   "cell_type": "code",
   "execution_count": 537,
   "metadata": {},
   "outputs": [],
   "source": [
    "centroids = kmeans.cluster_centers_"
   ]
  },
  {
   "cell_type": "code",
   "execution_count": 538,
   "metadata": {},
   "outputs": [
    {
     "data": {
      "image/png": "[encoded data removed]",
      "text/plain": [
       "<Figure size 720x648 with 16 Axes>"
      ]
     },
     "metadata": {
      "needs_background": "light"
     },
     "output_type": "display_data"
    }
   ],
   "source": [
    "plt.figure(figsize = (10,9))\n",
    "bottom = 0.35\n",
    "for i in range(16):\n",
    "    plt.subplots_adjust(bottom)\n",
    "    plt.subplot(4,4,i+1)\n",
    "    plt.title(reference_labels[i])\n",
    "    plt.imshow(centroids[i].reshape(28,28))"
   ]
  },
  {
   "cell_type": "code",
   "execution_count": 524,
   "metadata": {},
   "outputs": [
    {
     "data": {
      "text/plain": [
       "{0: 8,\n",
       " 1: 1,\n",
       " 2: 0,\n",
       " 3: 1,\n",
       " 4: 6,\n",
       " 5: 9,\n",
       " 6: 7,\n",
       " 7: 0,\n",
       " 8: 2,\n",
       " 9: 7,\n",
       " 10: 1,\n",
       " 11: 0,\n",
       " 12: 3,\n",
       " 13: 5,\n",
       " 14: 5,\n",
       " 15: 8,\n",
       " 16: 4,\n",
       " 17: 9,\n",
       " 18: 2,\n",
       " 19: 6,\n",
       " 20: 4,\n",
       " 21: 4,\n",
       " 22: 8,\n",
       " 23: 5,\n",
       " 24: 2,\n",
       " 25: 3,\n",
       " 26: 0,\n",
       " 27: 6,\n",
       " 28: 4,\n",
       " 29: 6,\n",
       " 30: 1,\n",
       " 31: 1,\n",
       " 32: 2,\n",
       " 33: 7,\n",
       " 34: 3,\n",
       " 35: 5,\n",
       " 36: 6,\n",
       " 37: 5,\n",
       " 38: 5,\n",
       " 39: 7,\n",
       " 40: 3,\n",
       " 41: 4,\n",
       " 42: 7,\n",
       " 43: 0,\n",
       " 44: 0,\n",
       " 45: 2,\n",
       " 46: 2,\n",
       " 47: 8,\n",
       " 48: 0,\n",
       " 49: 9,\n",
       " 50: 6,\n",
       " 51: 7,\n",
       " 52: 6,\n",
       " 53: 6,\n",
       " 54: 4,\n",
       " 55: 4,\n",
       " 56: 8,\n",
       " 57: 0,\n",
       " 58: 8,\n",
       " 59: 0,\n",
       " 60: 9,\n",
       " 61: 3,\n",
       " 62: 6,\n",
       " 63: 3,\n",
       " 64: 1,\n",
       " 65: 0,\n",
       " 66: 3,\n",
       " 67: 9,\n",
       " 68: 9,\n",
       " 69: 0,\n",
       " 70: 9,\n",
       " 71: 5,\n",
       " 72: 4,\n",
       " 73: 5,\n",
       " 74: 6,\n",
       " 75: 7,\n",
       " 76: 1,\n",
       " 77: 0,\n",
       " 78: 7,\n",
       " 79: 7,\n",
       " 80: 2,\n",
       " 81: 0,\n",
       " 82: 1,\n",
       " 83: 8,\n",
       " 84: 1,\n",
       " 85: 8,\n",
       " 86: 8,\n",
       " 87: 3,\n",
       " 88: 9,\n",
       " 89: 0,\n",
       " 90: 6,\n",
       " 91: 6,\n",
       " 92: 1,\n",
       " 93: 7,\n",
       " 94: 0,\n",
       " 95: 9,\n",
       " 96: 5,\n",
       " 97: 5,\n",
       " 98: 5,\n",
       " 99: 2,\n",
       " 100: 4,\n",
       " 101: 8,\n",
       " 102: 2,\n",
       " 103: 2,\n",
       " 104: 7,\n",
       " 105: 0,\n",
       " 106: 5,\n",
       " 107: 5,\n",
       " 108: 7,\n",
       " 109: 2,\n",
       " 110: 0,\n",
       " 111: 7,\n",
       " 112: 0,\n",
       " 113: 0,\n",
       " 114: 4,\n",
       " 115: 1,\n",
       " 116: 7,\n",
       " 117: 4,\n",
       " 118: 2,\n",
       " 119: 6,\n",
       " 120: 2,\n",
       " 121: 2,\n",
       " 122: 6,\n",
       " 123: 0,\n",
       " 124: 2,\n",
       " 125: 5,\n",
       " 126: 1,\n",
       " 127: 2,\n",
       " 128: 5,\n",
       " 129: 9,\n",
       " 130: 8,\n",
       " 131: 5,\n",
       " 132: 4,\n",
       " 133: 7,\n",
       " 134: 4,\n",
       " 135: 3,\n",
       " 136: 8,\n",
       " 137: 3,\n",
       " 138: 0,\n",
       " 139: 0,\n",
       " 140: 5,\n",
       " 141: 5,\n",
       " 142: 1,\n",
       " 143: 3,\n",
       " 144: 6,\n",
       " 145: 4,\n",
       " 146: 7,\n",
       " 147: 2,\n",
       " 148: 6,\n",
       " 149: 3,\n",
       " 150: 6,\n",
       " 151: 2,\n",
       " 152: 0,\n",
       " 153: 3,\n",
       " 154: 3,\n",
       " 155: 3,\n",
       " 156: 8,\n",
       " 157: 1,\n",
       " 158: 1,\n",
       " 159: 4,\n",
       " 160: 5,\n",
       " 161: 6,\n",
       " 162: 5,\n",
       " 163: 6,\n",
       " 164: 9,\n",
       " 165: 6,\n",
       " 166: 3,\n",
       " 167: 7,\n",
       " 168: 1,\n",
       " 169: 9,\n",
       " 170: 3,\n",
       " 171: 4,\n",
       " 172: 3,\n",
       " 173: 5,\n",
       " 174: 1,\n",
       " 175: 4,\n",
       " 176: 4,\n",
       " 177: 7,\n",
       " 178: 2,\n",
       " 179: 6,\n",
       " 180: 8,\n",
       " 181: 8,\n",
       " 182: 0,\n",
       " 183: 6,\n",
       " 184: 7,\n",
       " 185: 8,\n",
       " 186: 2,\n",
       " 187: 6,\n",
       " 188: 8,\n",
       " 189: 4,\n",
       " 190: 6,\n",
       " 191: 5,\n",
       " 192: 2,\n",
       " 193: 3,\n",
       " 194: 5,\n",
       " 195: 7,\n",
       " 196: 9,\n",
       " 197: 9,\n",
       " 198: 6,\n",
       " 199: 9,\n",
       " 200: 5,\n",
       " 201: 7,\n",
       " 202: 8,\n",
       " 203: 5,\n",
       " 204: 6,\n",
       " 205: 4,\n",
       " 206: 8,\n",
       " 207: 3,\n",
       " 208: 7,\n",
       " 209: 1,\n",
       " 210: 4,\n",
       " 211: 0,\n",
       " 212: 2,\n",
       " 213: 8,\n",
       " 214: 9,\n",
       " 215: 7,\n",
       " 216: 2,\n",
       " 217: 0,\n",
       " 218: 4,\n",
       " 219: 5,\n",
       " 220: 0,\n",
       " 221: 1,\n",
       " 222: 2,\n",
       " 223: 3,\n",
       " 224: 3,\n",
       " 225: 6,\n",
       " 226: 9,\n",
       " 227: 9,\n",
       " 228: 6,\n",
       " 229: 7,\n",
       " 230: 8,\n",
       " 231: 0,\n",
       " 232: 1,\n",
       " 233: 7,\n",
       " 234: 1,\n",
       " 235: 4,\n",
       " 236: 0,\n",
       " 237: 0,\n",
       " 238: 4,\n",
       " 239: 0,\n",
       " 240: 7,\n",
       " 241: 9,\n",
       " 242: 4,\n",
       " 243: 9,\n",
       " 244: 1,\n",
       " 245: 7,\n",
       " 246: 2,\n",
       " 247: 7,\n",
       " 248: 6,\n",
       " 249: 7,\n",
       " 250: 9,\n",
       " 251: 9,\n",
       " 252: 7,\n",
       " 253: 6,\n",
       " 254: 0}"
      ]
     },
     "execution_count": 524,
     "metadata": {},
     "output_type": "execute_result"
    }
   ],
   "source": [
    "reference_labels"
   ]
  },
  {
   "cell_type": "markdown",
   "metadata": {},
   "source": [
    "# Management Problem"
   ]
  },
  {
   "cell_type": "markdown",
   "metadata": {},
   "source": [
    "1. We begin by exploring the data within this dataset. We can see that that the training data set contains 42000 rows of data and 784 columns of explanatory variables. Each column represent a single pixel of the image and each image is a 28 x 28 pixel. For the sake of sanity for the KMeans clustering towards the end we convert the training data and its label to numpy arrays making it easier to create the labels in the end."
   ]
  },
  {
   "cell_type": "markdown",
   "metadata": {},
   "source": [
    "2. There are a few modeling methods that we want to try to implement within in dataset. We want to try with a Random Forest Classifcation algorithm with standard settings and see how well the algorithm performs. The issue here is that using all 784 explanatory variables can definitely be a long process therefore we want to perform some dimensionality reduction in order to speed up the process. We may lose a little bit of accuracy but the cost of which the time it takes for the algorithm to work far exceeds the a minor change in accuracy percentage. We can explore using a Principal Component Analysis, or PCA, to perform such dimensionality reduction in order to determine the number of components we can use to main a 95% variability for our data. Meaning we would only lose 5% of the data but that 5% isn't very crucial to the end result that we want to achieve."
   ]
  },
  {
   "cell_type": "markdown",
   "metadata": {},
   "source": [
    "3. From the first model we can see that the testing data was able to achieve a score of 0.964. This means that we were able to classify the correct number to the image correctly for 96% of the data. This is a very good score but there is definitely room for improvement. The testing data set contains around 28000 rows meaning the Random Forest Classifier incorrectly labeled over 1000 rows. This can definitely be a lot once the data set size gets even bigger. Our PCA model ran with the Random Forest Classification created a significantly smaller score of 0.41"
   ]
  },
  {
   "cell_type": "markdown",
   "metadata": {},
   "source": [
    "4. Our first Model used a Random Forest Classification with standard settings. This is our base case to see how well the model performs without and sort of modifications or hypertuning done to it. As we saw it came with a score of 0.964. Meaning it did a very good job classifying the test data. As we know,  we may lose a little bit of accuracy but the cost of which the time it takes for the algorithm to work far exceeds the a minor change in accuracy percentage so we do a PCA on the combined training and test data. This gives us a component number of 154 meaning out of the 784 explanatory variables, 154 of will provide a variability of 95%. We use this with our PCA and retrain the data. The score came out significantly lower than the first model but this is becasue there is a major flaw with what we performed."
   ]
  },
  {
   "cell_type": "markdown",
   "metadata": {},
   "source": [
    "5. As the manager of the data science team I would recommend looking in to using a PCA as a premliminary because PCA can provide advantages such as shorter computation which would saves costs. In the testing case even with using PCA, we were able to get accuracy scores of around 94% or more for our training, testing, and holding sets. This is a very good accuracy score to use for the team."
   ]
  },
  {
   "cell_type": "code",
   "execution_count": null,
   "metadata": {},
   "outputs": [],
   "source": []
  }
 ],
 "metadata": {
  "kernelspec": {
   "display_name": "Python 3",
   "language": "python",
   "name": "python3"
  },
  "language_info": {
   "codemirror_mode": {
    "name": "ipython",
    "version": 3
   },
   "file_extension": ".py",
   "mimetype": "text/x-python",
   "name": "python",
   "nbconvert_exporter": "python",
   "pygments_lexer": "ipython3",
   "version": "3.8.3"
  }
 },
 "nbformat": 4,
 "nbformat_minor": 4
}
